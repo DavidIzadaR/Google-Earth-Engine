{
  "nbformat": 4,
  "nbformat_minor": 0,
  "metadata": {
    "colab": {
      "name": "Google_Earth_Engine.ipynb",
      "provenance": [],
      "authorship_tag": "ABX9TyP8MELPNMUfzPo+aItPEGYF",
      "include_colab_link": true
    },
    "kernelspec": {
      "name": "python3",
      "display_name": "Python 3"
    },
    "language_info": {
      "name": "python"
    }
  },
  "cells": [
    {
      "cell_type": "markdown",
      "metadata": {
        "id": "view-in-github",
        "colab_type": "text"
      },
      "source": [
        "<a href=\"https://colab.research.google.com/github/DavidIzadaR/Google-Earth-Engine/blob/main/Google_Earth_Engine.ipynb\" target=\"_parent\"><img src=\"https://colab.research.google.com/assets/colab-badge.svg\" alt=\"Open In Colab\"/></a>"
      ]
    },
    {
      "cell_type": "code",
      "execution_count": 1,
      "metadata": {
        "id": "1BW4mA1vdrd7"
      },
      "outputs": [],
      "source": [
        "# Import the earth-engine module\n",
        "import ee"
      ]
    },
    {
      "cell_type": "code",
      "source": [
        "ee.Authenticate()"
      ],
      "metadata": {
        "colab": {
          "base_uri": "https://localhost:8080/"
        },
        "id": "CniqdHh0esMu",
        "outputId": "9a9982b2-a9f5-41e8-e6f2-f324631d5fa5"
      },
      "execution_count": 2,
      "outputs": [
        {
          "output_type": "stream",
          "name": "stdout",
          "text": [
            "To authorize access needed by Earth Engine, open the following URL in a web browser and follow the instructions. If the web browser does not start automatically, please manually browse the URL below.\n",
            "\n",
            "    https://code.earthengine.google.com/client-auth?scopes=https%3A//www.googleapis.com/auth/earthengine%20https%3A//www.googleapis.com/auth/devstorage.full_control&request_id=t8Tj4NyYPWZ26Y5cIG0XE_EXsu9Q9KEJsxHtvzAjUQs&tc=8Ejduq14pr7DIw2WRvGJuXv1iQm4KXD0V1rFEjV5XJA&cc=Whew8t-BNdJjE_ZqhaaMBY3PReVnRMi837GLcWs-1cM\n",
            "\n",
            "The authorization workflow will generate a code, which you should paste in the box below. \n",
            "Enter verification code: 4/1AX4XfWjaXBwJtudAFqswiXgnqkmLu-Mk5w9gMhP_VYMA4qEOR7VsbAiBcvE\n",
            "\n",
            "Successfully saved authorization token.\n"
          ]
        }
      ]
    },
    {
      "cell_type": "code",
      "source": [
        "ee.Initialize()"
      ],
      "metadata": {
        "id": "7_g43Q0Afgd1"
      },
      "execution_count": 3,
      "outputs": []
    },
    {
      "cell_type": "code",
      "source": [
        "# Load the Nighttime Image Collection\n",
        " \n",
        "collection = ee.ImageCollection('NOAA/DMSP-OLS/NIGHTTIME_LIGHTS')"
      ],
      "metadata": {
        "id": "lxeI_60dfw5C"
      },
      "execution_count": 4,
      "outputs": []
    },
    {
      "cell_type": "code",
      "source": [
        "# Extract the first image\n",
        "first_image = collection.first()\n",
        " \n",
        "# Display band information about the image\n",
        "first_image.bandNames().getInfo()"
      ],
      "metadata": {
        "colab": {
          "base_uri": "https://localhost:8080/"
        },
        "id": "4mCusopCf3R8",
        "outputId": "1106ecc7-fa36-4388-af03-217d226dfd7f"
      },
      "execution_count": 5,
      "outputs": [
        {
          "output_type": "execute_result",
          "data": {
            "text/plain": [
              "['avg_vis', 'stable_lights', 'cf_cvg', 'avg_lights_x_pct']"
            ]
          },
          "metadata": {},
          "execution_count": 5
        }
      ]
    },
    {
      "cell_type": "code",
      "source": [
        "collection = collection.select('stable_lights')"
      ],
      "metadata": {
        "id": "JCW21LMAf9JP"
      },
      "execution_count": 6,
      "outputs": []
    },
    {
      "cell_type": "code",
      "source": [
        "first_image = collection.first()\n",
        " \n",
        "# Get number of years after 1991 from the first image\n",
        "year = ee.Date(first_image.get('system:time_start')).get('year').subtract(1991)\n",
        " \n",
        "# Turn it into a band\n",
        "img1 = ee.Image(year).byte().addBands(first_image)\n",
        " \n",
        "# A new band appears in the new image\n",
        "img1.bandNames().getInfo()"
      ],
      "metadata": {
        "colab": {
          "base_uri": "https://localhost:8080/"
        },
        "id": "5FOmCn5bgDXq",
        "outputId": "9d3ad046-3f65-490b-dbc3-dcbaef16900c"
      },
      "execution_count": 7,
      "outputs": [
        {
          "output_type": "execute_result",
          "data": {
            "text/plain": [
              "['constant', 'stable_lights']"
            ]
          },
          "metadata": {},
          "execution_count": 7
        }
      ]
    },
    {
      "cell_type": "code",
      "source": [
        "def createTimeBand(img):\n",
        "    year = ee.Date(img.get('system:time_start')).get('year').subtract(1991)\n",
        "    return ee.Image(year).byte().addBands(img)\n",
        " \n",
        "# Map it to the collection to create a new collection\n",
        "collection = collection.map(createTimeBand)"
      ],
      "metadata": {
        "id": "n7EupgcIgO-Q"
      },
      "execution_count": 8,
      "outputs": []
    },
    {
      "cell_type": "code",
      "source": [
        "#pip install folium --upgrade\n",
        "\n",
        "# Import the folium library\n",
        "import folium"
      ],
      "metadata": {
        "id": "1PKwYMJMgXt4"
      },
      "execution_count": 9,
      "outputs": []
    },
    {
      "cell_type": "code",
      "source": [
        "# Define a method for displaying Earth Engine image tiles to folium map.\n",
        "def add_ee_layer(self, ee_image_object, vis_params, name):\n",
        "  map_id_dict = ee.Image(ee_image_object).getMapId(vis_params)\n",
        "  folium.raster_layers.TileLayer(\n",
        "    tiles = map_id_dict['tile_fetcher'].url_format,\n",
        "    attr = 'Map Data © <a href=\"https://earthengine.google.com/\">Google Earth Engine</a>',\n",
        "    name = name,\n",
        "    overlay = True,\n",
        "    control = True\n",
        "  ).add_to(self)\n",
        " \n",
        "# Add EE drawing method to folium.\n",
        "folium.Map.add_ee_layer = add_ee_layer"
      ],
      "metadata": {
        "id": "NiRHtxgYgn20"
      },
      "execution_count": 10,
      "outputs": []
    },
    {
      "cell_type": "code",
      "source": [
        "# Create the night map\n",
        "night_map = folium.Map(location=[37.5010, -102.1899], zoom_start=4.5)"
      ],
      "metadata": {
        "id": "sojCs-wNgwFg"
      },
      "execution_count": 11,
      "outputs": []
    },
    {
      "cell_type": "code",
      "source": [
        "#  visualize the y-intercept in green, and positive/negative slopes as red/blue.\n",
        " \n",
        "params = {\n",
        "    'bands' :  ['scale', 'offset', 'scale'],\n",
        "    'min' : 0,\n",
        "    'max' : [0.18, 20, -0.18],\n",
        "}"
      ],
      "metadata": {
        "id": "pXvLRGwAg0sA"
      },
      "execution_count": 12,
      "outputs": []
    },
    {
      "cell_type": "code",
      "source": [
        "night_light = collection.reduce(ee.Reducer.linearFit())"
      ],
      "metadata": {
        "id": "2aD-xaOmg5kM"
      },
      "execution_count": 13,
      "outputs": []
    },
    {
      "cell_type": "code",
      "source": [
        "# Add the image layer to the night_map\n",
        "night_map.add_ee_layer(night_light, params, 'test')\n",
        " \n",
        "# Display the map\n",
        "display(map)"
      ],
      "metadata": {
        "colab": {
          "base_uri": "https://localhost:8080/",
          "height": 34
        },
        "id": "XiAD7NdYg9wF",
        "outputId": "8d94ba1b-a7f1-40c4-b898-8e1f21ed45f3"
      },
      "execution_count": 16,
      "outputs": [
        {
          "output_type": "display_data",
          "data": {
            "text/plain": [
              "map"
            ]
          },
          "metadata": {}
        }
      ]
    }
  ]
}